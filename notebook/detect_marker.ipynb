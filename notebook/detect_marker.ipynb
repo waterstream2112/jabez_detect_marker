{
 "cells": [
  {
   "cell_type": "code",
   "execution_count": null,
   "metadata": {},
   "outputs": [],
   "source": [
    "print(\"hello\")"
   ]
  },
  {
   "cell_type": "code",
   "execution_count": 1,
   "metadata": {},
   "outputs": [
    {
     "name": "stdout",
     "output_type": "stream",
     "text": [
      "[[[163 208 185]]]\n",
      "[[[232 208 185]]]\n"
     ]
    }
   ],
   "source": [
    "import cv2\n",
    "import numpy as np\n",
    "\n",
    "color = np.uint8([[[118, 34, 185 ]]])\n",
    "hsv = cv2.cvtColor(color, cv2.COLOR_BGR2HSV)\n",
    "hsv_full = cv2.cvtColor(color, cv2.COLOR_BGR2HSV_FULL)\n",
    "print( hsv )\n",
    "print( hsv_full )\n"
   ]
  },
  {
   "cell_type": "code",
   "execution_count": null,
   "metadata": {},
   "outputs": [],
   "source": [
    "import cv2\n",
    "import numpy as np\n",
    "\n",
    "# Read image\n",
    "image = cv2.imread('image5.png')\n",
    "\n",
    "# Convert to HSV color space\n",
    "hsv_image = cv2.cvtColor(image, cv2.COLOR_BGR2HSV)\n",
    "rgb_image = cv2.cvtColor(hsv_image, cv2.COLOR_HSV2BGR)\n",
    "\n",
    "\n",
    "# Define range of red color in HSV\n",
    "# lower_red = np.array([0, 50, 50])\n",
    "# upper_red = np.array([5, 255, 255])\n",
    "lower_red = np.array([170, 80, 80])\n",
    "upper_red = np.array([179, 200, 200])\n",
    "\n",
    "# Threshold the HSV image to get only red colors\n",
    "mask = cv2.inRange(hsv_image, lower_red, upper_red)\n",
    "output = cv2.bitwise_and(image, image, mask = mask)\n",
    "# output = cv2.cvtColor(output, cv2.COLOR_HSV2BGR)\n",
    "\n",
    "# Find contours\n",
    "contours, _ = cv2.findContours(mask, cv2.RETR_EXTERNAL, cv2.CHAIN_APPROX_SIMPLE)\n",
    "\n",
    "# Draw bounding boxes around detected blobs\n",
    "for contour in contours:\n",
    "    x, y, w, h = cv2.boundingRect(contour)\n",
    "    if (w*h > 50) and (y > 160):\n",
    "        cv2.rectangle(image, (x, y), (x + w, y + h), (0, 255, 0), 2)\n",
    "\n",
    "# Display result\n",
    "cv2.imshow('Color Blob Detection', image)\n",
    "cv2.waitKey(0)\n",
    "cv2.destroyAllWindows()\n",
    "\n"
   ]
  }
 ],
 "metadata": {
  "kernelspec": {
   "display_name": "Python 3",
   "language": "python",
   "name": "python3"
  },
  "language_info": {
   "codemirror_mode": {
    "name": "ipython",
    "version": 3
   },
   "file_extension": ".py",
   "mimetype": "text/x-python",
   "name": "python",
   "nbconvert_exporter": "python",
   "pygments_lexer": "ipython3",
   "version": "3.8.10"
  }
 },
 "nbformat": 4,
 "nbformat_minor": 2
}
